{
  "nbformat": 4,
  "nbformat_minor": 0,
  "metadata": {
    "colab": {
      "provenance": []
    },
    "kernelspec": {
      "name": "python3",
      "display_name": "Python 3"
    },
    "language_info": {
      "name": "python"
    }
  },
  "cells": [
    {
      "cell_type": "code",
      "source": [
        "!pip install -q transformers\n",
        "!pip install -q -U tensorflow-text\n",
        "!pip install -q tf-models-official"
      ],
      "metadata": {
        "colab": {
          "base_uri": "https://localhost:8080/"
        },
        "id": "EqlnI_lN-V0R",
        "outputId": "2b33b83a-f078-4b42-9bf5-de9057e10ccc"
      },
      "execution_count": null,
      "outputs": [
        {
          "output_type": "stream",
          "name": "stdout",
          "text": [
            "\u001b[K     |████████████████████████████████| 4.9 MB 7.0 MB/s \n",
            "\u001b[K     |████████████████████████████████| 1.8 MB 6.6 MB/s \n",
            "\u001b[K     |████████████████████████████████| 99 kB 10.4 MB/s \n",
            "\u001b[K     |████████████████████████████████| 90 kB 10.6 MB/s \n",
            "\u001b[K     |████████████████████████████████| 213 kB 70.4 MB/s \n",
            "\u001b[K     |████████████████████████████████| 47.6 MB 110 kB/s \n",
            "\u001b[K     |████████████████████████████████| 1.1 MB 34.7 MB/s \n",
            "\u001b[K     |████████████████████████████████| 352 kB 40.4 MB/s \n",
            "\u001b[K     |████████████████████████████████| 1.2 MB 29.2 MB/s \n",
            "\u001b[K     |████████████████████████████████| 43 kB 2.1 MB/s \n",
            "\u001b[?25h  Building wheel for py-cpuinfo (setup.py) ... \u001b[?25l\u001b[?25hdone\n",
            "  Building wheel for seqeval (setup.py) ... \u001b[?25l\u001b[?25hdone\n"
          ]
        }
      ]
    },
    {
      "cell_type": "code",
      "metadata": {
        "id": "ybxMhKPMpZnQ"
      },
      "source": [
        "%%capture\n",
        "import numpy as np\n",
        "import pandas as pd\n",
        "import matplotlib.pyplot as plt\n",
        "\n",
        "import nltk\n",
        "from nltk.tokenize import word_tokenize, sent_tokenize\n",
        "from nltk.sentiment.vader import SentimentIntensityAnalyzer\n",
        "\n",
        "import sklearn\n",
        "from sklearn.naive_bayes import GaussianNB\n",
        "from sklearn.neighbors import KNeighborsClassifier\n",
        "from sklearn.svm import SVC\n",
        "from sklearn.tree import DecisionTreeClassifier\n",
        "from sklearn.ensemble import RandomForestClassifier\n",
        "from sklearn.model_selection import GroupKFold\n",
        "\n",
        "import tensorflow as tf\n",
        "import tensorflow_hub as hub\n",
        "import tensorflow_text as text\n",
        "from official.nlp import optimization\n",
        "\n",
        "import re\n",
        "import string\n",
        "import seaborn as sns\n",
        "from transformers import BertTokenizer\n",
        "from tqdm.notebook import tqdm\n",
        "from collections import Counter\n",
        "import itertools\n",
        "import warnings"
      ],
      "execution_count": null,
      "outputs": []
    },
    {
      "cell_type": "markdown",
      "metadata": {
        "id": "jLlEv-cwpk7V"
      },
      "source": [
        "# Reading the data"
      ]
    },
    {
      "cell_type": "code",
      "metadata": {
        "colab": {
          "base_uri": "https://localhost:8080/"
        },
        "id": "ow5VrSwYpvzM",
        "outputId": "97746caa-7514-4f03-82ba-2af7f8b2d9fc"
      },
      "source": [
        "from google.colab import drive\n",
        "drive.mount('/content/drive')"
      ],
      "execution_count": null,
      "outputs": [
        {
          "output_type": "stream",
          "name": "stdout",
          "text": [
            "Drive already mounted at /content/drive; to attempt to forcibly remount, call drive.mount(\"/content/drive\", force_remount=True).\n"
          ]
        }
      ]
    },
    {
      "cell_type": "code",
      "source": [
        "# data from https://www.kaggle.com/datasets/deepcontractor/200k-short-texts-for-humor-detection\n",
        "!cp ./drive/MyDrive/Datasets/HumorRec/train.csv .\n",
        "!cp ./drive/MyDrive/Datasets/HumorRec/dev.csv .\n",
        "!cp ./drive/MyDrive/Datasets/HumorRec/dataset.csv ."
      ],
      "metadata": {
        "id": "yDpfou6HLq6s"
      },
      "execution_count": null,
      "outputs": []
    },
    {
      "cell_type": "code",
      "metadata": {
        "colab": {
          "base_uri": "https://localhost:8080/",
          "height": 206
        },
        "id": "L-Ek9clr4mfk",
        "outputId": "44881bcc-27da-4db8-8136-d094075a40d9"
      },
      "source": [
        "df = pd.read_csv('dataset.csv')\n",
        "df_train = pd.read_csv('train.csv')\n",
        "df_test = pd.read_csv('dev.csv')\n",
        "df_train.head()"
      ],
      "execution_count": null,
      "outputs": [
        {
          "output_type": "execute_result",
          "data": {
            "text/html": [
              "<div>\n",
              "<style scoped>\n",
              "    .dataframe tbody tr th:only-of-type {\n",
              "        vertical-align: middle;\n",
              "    }\n",
              "\n",
              "    .dataframe tbody tr th {\n",
              "        vertical-align: top;\n",
              "    }\n",
              "\n",
              "    .dataframe thead th {\n",
              "        text-align: right;\n",
              "    }\n",
              "</style>\n",
              "<table border=\"1\" class=\"dataframe\">\n",
              "  <thead>\n",
              "    <tr style=\"text-align: right;\">\n",
              "      <th></th>\n",
              "      <th>text</th>\n",
              "      <th>humor</th>\n",
              "    </tr>\n",
              "  </thead>\n",
              "  <tbody>\n",
              "    <tr>\n",
              "      <th>0</th>\n",
              "      <td>Joe biden rules out 2020 bid: 'guys, i'm not r...</td>\n",
              "      <td>False</td>\n",
              "    </tr>\n",
              "    <tr>\n",
              "      <th>1</th>\n",
              "      <td>Watch: darvish gave hitter whiplash with slow ...</td>\n",
              "      <td>False</td>\n",
              "    </tr>\n",
              "    <tr>\n",
              "      <th>2</th>\n",
              "      <td>What do you call a turtle without its shell? d...</td>\n",
              "      <td>True</td>\n",
              "    </tr>\n",
              "    <tr>\n",
              "      <th>3</th>\n",
              "      <td>5 reasons the 2016 election feels so personal</td>\n",
              "      <td>False</td>\n",
              "    </tr>\n",
              "    <tr>\n",
              "      <th>4</th>\n",
              "      <td>Pasco police shot mexican migrant from behind,...</td>\n",
              "      <td>False</td>\n",
              "    </tr>\n",
              "  </tbody>\n",
              "</table>\n",
              "</div>"
            ],
            "text/plain": [
              "                                                text  humor\n",
              "0  Joe biden rules out 2020 bid: 'guys, i'm not r...  False\n",
              "1  Watch: darvish gave hitter whiplash with slow ...  False\n",
              "2  What do you call a turtle without its shell? d...   True\n",
              "3      5 reasons the 2016 election feels so personal  False\n",
              "4  Pasco police shot mexican migrant from behind,...  False"
            ]
          },
          "metadata": {},
          "execution_count": 81
        }
      ]
    },
    {
      "cell_type": "markdown",
      "source": [
        "# Classification using text features"
      ],
      "metadata": {
        "id": "RSZBE72zz6ez"
      }
    },
    {
      "cell_type": "code",
      "source": [
        "nltk.download('stopwords')\n",
        "nltk.download('punkt')\n",
        "nltk.download('averaged_perceptron_tagger')\n",
        "nltk.download('vader_lexicon')"
      ],
      "metadata": {
        "id": "y7aexzAQpPTz",
        "colab": {
          "base_uri": "https://localhost:8080/"
        },
        "outputId": "0b11bc03-ebf5-4da9-eb25-af16814bd379"
      },
      "execution_count": null,
      "outputs": [
        {
          "output_type": "stream",
          "name": "stdout",
          "text": [
            "[nltk_data] Downloading package stopwords to /root/nltk_data...\n",
            "[nltk_data]   Package stopwords is already up-to-date!\n",
            "[nltk_data] Downloading package punkt to /root/nltk_data...\n",
            "[nltk_data]   Package punkt is already up-to-date!\n",
            "[nltk_data] Downloading package averaged_perceptron_tagger to\n",
            "[nltk_data]     /root/nltk_data...\n",
            "[nltk_data]   Package averaged_perceptron_tagger is already up-to-\n",
            "[nltk_data]       date!\n",
            "[nltk_data] Downloading package vader_lexicon to /root/nltk_data...\n",
            "[nltk_data]   Package vader_lexicon is already up-to-date!\n"
          ]
        },
        {
          "output_type": "execute_result",
          "data": {
            "text/plain": [
              "True"
            ]
          },
          "metadata": {},
          "execution_count": 6
        }
      ]
    },
    {
      "cell_type": "code",
      "source": [
        "#preprocessing and feature extaction functionality\n",
        "def punct_detection(text):\n",
        "    return text.count('?'), text.count('!')\n",
        "\n",
        "def number_of_sentences(text):\n",
        "    return len(sent_tokenize(text))\n",
        "\n",
        "def get_emoticons(text):\n",
        "    emoticons = text.count(\":)\") + text.count(\":D\") + text.count(\":3\") + text.count(\";)\")\n",
        "    return emoticons\n",
        "\n",
        "def remove_emoticons(text):\n",
        "    text = text.replace(\":)\",\"\").replace(\":D\",\"\").replace(\":3\",\"\").replace(\";)\",\"\")\n",
        "    return text\n",
        "\n",
        "def preprocess(text):\n",
        "    cleaned_text = text.lower()\n",
        "    cleaned_text = cleaned_text.translate(str.maketrans('', '', string.punctuation))\n",
        "    cleaned_text = cleaned_text.strip()\n",
        "    text_list = cleaned_text.split(\" \")\n",
        "\n",
        "    # stopwords = nltk.corpus.stopwords.words(\"english\")\n",
        "    # text_list = [word for word in text_list if word not in stopwords]\n",
        "    return text_list\n",
        "\n",
        "def get_structure(text_list):\n",
        "    num = 0\n",
        "    total_len = 0\n",
        "    for word in text_list:\n",
        "        num = num + 1\n",
        "        total_len = total_len + len(word)\n",
        "    return num, (total_len / num)\n",
        "\n",
        "def get_word_types(text_list):\n",
        "    # getting number of nouns, verbs, adjectives and adverbs relative to total number of words\n",
        "    tags = nltk.pos_tag(text_list)\n",
        "    #print(tags)\n",
        "    counts = Counter(tag for word,tag in tags)\n",
        "    print(counts)\n",
        "\n",
        "def make_freq_dist(texts):\n",
        "    full_text = list(itertools.chain.from_iterable(texts))\n",
        "    fd = nltk.FreqDist(full_text)\n",
        "    return fd\n",
        "\n",
        "def find_freq(text_list):\n",
        "    max_freq, total_freq, least_freq, mean_freq = 0, 0, 999999, 0\n",
        "    for word in text_list:\n",
        "        wf = fd[word]\n",
        "        if wf > max_freq:\n",
        "            max_freq = wf\n",
        "        if wf < least_freq:\n",
        "            least_freq = wf\n",
        "        total_freq = total_freq + wf\n",
        "    mean_freq = total_freq/len(text_list)\n",
        "    freq_gap = mean_freq - least_freq\n",
        "    return mean_freq, max_freq, least_freq, freq_gap\n",
        "\n",
        "def intensity_score(text, sia):\n",
        "    scores = sia.polarity_scores(text)\n",
        "    return scores['neg'], scores['pos'], abs(scores['pos'] - scores['neg'])"
      ],
      "metadata": {
        "id": "-or4JUpkahJj"
      },
      "execution_count": null,
      "outputs": []
    },
    {
      "cell_type": "code",
      "source": [
        "# creating a frequency distribution for words in the dataset\n",
        "text_lists_all = df['text'].apply(remove_emoticons).apply(preprocess)\n",
        "fd = make_freq_dist(text_lists_all)"
      ],
      "metadata": {
        "id": "MpphhNK-d9-F"
      },
      "execution_count": null,
      "outputs": []
    },
    {
      "cell_type": "code",
      "source": [
        "# funtion to create features dataset, both train and test\n",
        "def make_features_dataset(df_smol):\n",
        "    df_smol.reset_index(drop=True, inplace=True)\n",
        "    punctuations = df_smol['text'].apply(punct_detection)\n",
        "\n",
        "    df_smol['questions'], df_smol['exclamations'] = pd.Series([p[0] for p in punctuations]), pd.Series(p[1] for p in punctuations)\n",
        "    df_smol['emoticons'] = df_smol['text'].apply(get_emoticons)\n",
        "    df_smol['text'] = df_smol['text'].apply(remove_emoticons)\n",
        "    df_smol['sentences'] = df_smol['text'].apply(number_of_sentences)\n",
        "    df_smol['text_list'] = df_smol['text'].apply(preprocess)\n",
        "\n",
        "    struct = df_smol['text_list'].apply(get_structure)\n",
        "    df_smol['length'], df_smol['average_word_length'] = pd.Series([s[0] for s in struct]), pd.Series(s[1] for s in struct)\n",
        "\n",
        "    frequencies = df_smol['text_list'].apply(find_freq)\n",
        "    df_smol['mean_freq'], df_smol['max_freq'], df_smol['min_freq'], df_smol['freq_gap'] = pd.Series([f[0] for f in frequencies]), pd.Series([f[1] for f in frequencies]), pd.Series([f[2] for f in frequencies]), pd.Series([f[3] for f in frequencies])\n",
        "\n",
        "    df_smol.drop('text', axis=1, inplace=True)\n",
        "    df_smol.drop('text_list', axis=1, inplace=True)\n",
        "    df_y = df_smol['humor']\n",
        "    df_x = df_smol.drop('humor', axis=1)\n",
        "    return df_x, df_y\n"
      ],
      "metadata": {
        "id": "vQgBMW7yb5h2"
      },
      "execution_count": null,
      "outputs": []
    },
    {
      "cell_type": "code",
      "source": [
        "warnings.filterwarnings(action=\"once\")\n",
        "df_train_x, df_train_y = make_features_dataset(df[:1000])\n",
        "df_test_x, df_test_y = make_features_dataset(df[1000:2000])"
      ],
      "metadata": {
        "colab": {
          "base_uri": "https://localhost:8080/"
        },
        "id": "sY18xxJ9V-28",
        "outputId": "4b07771e-6535-4b84-9f20-d85d92304ac1"
      },
      "execution_count": null,
      "outputs": [
        {
          "output_type": "stream",
          "name": "stderr",
          "text": [
            "/usr/local/lib/python3.7/dist-packages/ipykernel_launcher.py:5: SettingWithCopyWarning: \n",
            "A value is trying to be set on a copy of a slice from a DataFrame.\n",
            "Try using .loc[row_indexer,col_indexer] = value instead\n",
            "\n",
            "See the caveats in the documentation: https://pandas.pydata.org/pandas-docs/stable/user_guide/indexing.html#returning-a-view-versus-a-copy\n",
            "  \"\"\"\n",
            "/usr/local/lib/python3.7/dist-packages/pandas/core/frame.py:4174: SettingWithCopyWarning: \n",
            "A value is trying to be set on a copy of a slice from a DataFrame\n",
            "\n",
            "See the caveats in the documentation: https://pandas.pydata.org/pandas-docs/stable/user_guide/indexing.html#returning-a-view-versus-a-copy\n",
            "  errors=errors,\n"
          ]
        }
      ]
    },
    {
      "cell_type": "code",
      "source": [
        "df_test_x.head()"
      ],
      "metadata": {
        "colab": {
          "base_uri": "https://localhost:8080/",
          "height": 206
        },
        "id": "c0JoKmfHdkuV",
        "outputId": "03e95726-4100-4d8e-b8ed-aeae23c41513"
      },
      "execution_count": null,
      "outputs": [
        {
          "output_type": "execute_result",
          "data": {
            "text/html": [
              "<div>\n",
              "<style scoped>\n",
              "    .dataframe tbody tr th:only-of-type {\n",
              "        vertical-align: middle;\n",
              "    }\n",
              "\n",
              "    .dataframe tbody tr th {\n",
              "        vertical-align: top;\n",
              "    }\n",
              "\n",
              "    .dataframe thead th {\n",
              "        text-align: right;\n",
              "    }\n",
              "</style>\n",
              "<table border=\"1\" class=\"dataframe\">\n",
              "  <thead>\n",
              "    <tr style=\"text-align: right;\">\n",
              "      <th></th>\n",
              "      <th>questions</th>\n",
              "      <th>exclamations</th>\n",
              "      <th>emoticons</th>\n",
              "      <th>sentences</th>\n",
              "      <th>length</th>\n",
              "      <th>average_word_length</th>\n",
              "      <th>mean_freq</th>\n",
              "      <th>max_freq</th>\n",
              "      <th>min_freq</th>\n",
              "      <th>freq_gap</th>\n",
              "    </tr>\n",
              "  </thead>\n",
              "  <tbody>\n",
              "    <tr>\n",
              "      <th>0</th>\n",
              "      <td>1</td>\n",
              "      <td>0</td>\n",
              "      <td>0</td>\n",
              "      <td>1</td>\n",
              "      <td>15</td>\n",
              "      <td>3.733333</td>\n",
              "      <td>16226.266667</td>\n",
              "      <td>83042</td>\n",
              "      <td>165</td>\n",
              "      <td>16061.266667</td>\n",
              "    </tr>\n",
              "    <tr>\n",
              "      <th>1</th>\n",
              "      <td>0</td>\n",
              "      <td>0</td>\n",
              "      <td>0</td>\n",
              "      <td>1</td>\n",
              "      <td>17</td>\n",
              "      <td>4.882353</td>\n",
              "      <td>1581.000000</td>\n",
              "      <td>9527</td>\n",
              "      <td>1</td>\n",
              "      <td>1580.000000</td>\n",
              "    </tr>\n",
              "    <tr>\n",
              "      <th>2</th>\n",
              "      <td>0</td>\n",
              "      <td>0</td>\n",
              "      <td>0</td>\n",
              "      <td>1</td>\n",
              "      <td>14</td>\n",
              "      <td>5.214286</td>\n",
              "      <td>7787.928571</td>\n",
              "      <td>54031</td>\n",
              "      <td>10</td>\n",
              "      <td>7777.928571</td>\n",
              "    </tr>\n",
              "    <tr>\n",
              "      <th>3</th>\n",
              "      <td>0</td>\n",
              "      <td>0</td>\n",
              "      <td>0</td>\n",
              "      <td>1</td>\n",
              "      <td>11</td>\n",
              "      <td>4.727273</td>\n",
              "      <td>3137.272727</td>\n",
              "      <td>33276</td>\n",
              "      <td>2</td>\n",
              "      <td>3135.272727</td>\n",
              "    </tr>\n",
              "    <tr>\n",
              "      <th>4</th>\n",
              "      <td>0</td>\n",
              "      <td>0</td>\n",
              "      <td>0</td>\n",
              "      <td>1</td>\n",
              "      <td>15</td>\n",
              "      <td>4.133333</td>\n",
              "      <td>18714.533333</td>\n",
              "      <td>77225</td>\n",
              "      <td>88</td>\n",
              "      <td>18626.533333</td>\n",
              "    </tr>\n",
              "  </tbody>\n",
              "</table>\n",
              "</div>"
            ],
            "text/plain": [
              "   questions  exclamations  emoticons  ...  max_freq  min_freq      freq_gap\n",
              "0          1             0          0  ...     83042       165  16061.266667\n",
              "1          0             0          0  ...      9527         1   1580.000000\n",
              "2          0             0          0  ...     54031        10   7777.928571\n",
              "3          0             0          0  ...     33276         2   3135.272727\n",
              "4          0             0          0  ...     77225        88  18626.533333\n",
              "\n",
              "[5 rows x 10 columns]"
            ]
          },
          "metadata": {},
          "execution_count": 39
        }
      ]
    },
    {
      "cell_type": "code",
      "source": [
        "# heatmap\n",
        "combined_df = df_train_x.copy()\n",
        "combined_df['target'] = df_train_y.astype(int)\n",
        "corr = combined_df.corr()\n",
        "mask = np.triu(np.ones_like(corr, dtype=bool))\n",
        "f, ax = plt.subplots(figsize=(11, 9))\n",
        "cmap = sns.diverging_palette(230, 20, as_cmap=True)\n",
        "sns.heatmap(corr, mask=mask, cmap=cmap, vmax=.3, center=0,\n",
        "            square=True, linewidths=.5, cbar_kws={\"shrink\": .5})"
      ],
      "metadata": {
        "colab": {
          "base_uri": "https://localhost:8080/",
          "height": 652
        },
        "id": "2bjZi-36-lUa",
        "outputId": "a87bf218-02e7-45c0-cd7d-9be74951a76a"
      },
      "execution_count": null,
      "outputs": [
        {
          "output_type": "execute_result",
          "data": {
            "text/plain": [
              "<matplotlib.axes._subplots.AxesSubplot at 0x7f993c286790>"
            ]
          },
          "metadata": {},
          "execution_count": 139
        },
        {
          "output_type": "display_data",
          "data": {
            "image/png": "[encoded data removed]",
            "text/plain": [
              "<Figure size 792x648 with 2 Axes>"
            ]
          },
          "metadata": {
            "needs_background": "light"
          }
        }
      ]
    },
    {
      "cell_type": "code",
      "source": [
        "names = [\n",
        "    \"Naive Bayes\",\n",
        "    \"Nearest Neighbors\",\n",
        "    \"Linear SVM\",\n",
        "    \"Decision Tree\",\n",
        "    \"Random Forest\"\n",
        "]\n",
        "classifiers = [\n",
        "    GaussianNB(),\n",
        "    KNeighborsClassifier(3),\n",
        "    SVC(kernel=\"linear\",C=0.025),\n",
        "    DecisionTreeClassifier(),\n",
        "    RandomForestClassifier(n_estimators=10)\n",
        "]"
      ],
      "metadata": {
        "id": "FM1bgzOKhqrL"
      },
      "execution_count": null,
      "outputs": []
    },
    {
      "cell_type": "code",
      "source": [
        "accuracies = []\n",
        "for name, clf in zip(names,classifiers):\n",
        "    clf.fit(df_train_x,df_train_y)\n",
        "    y_pred = clf.predict(df_test_x)\n",
        "    acc = sklearn.metrics.accuracy_score(y_pred,df_test_y)\n",
        "    accuracies.append(acc)\n",
        "    print(f\"Accuracy of {name} classifier: {acc}\")"
      ],
      "metadata": {
        "colab": {
          "base_uri": "https://localhost:8080/"
        },
        "id": "SjrnRkh5lme0",
        "outputId": "cf2924f2-24da-4fb6-9c8e-7ff44f69892a"
      },
      "execution_count": null,
      "outputs": [
        {
          "output_type": "stream",
          "name": "stdout",
          "text": [
            "Accuracy of Naive Bayes classifier: 0.759\n",
            "Accuracy of Nearest Neighbors classifier: 0.652\n",
            "Accuracy of Linear SVM classifier: 0.756\n",
            "Accuracy of Decision Tree classifier: 0.793\n",
            "Accuracy of Random Forest classifier: 0.842\n"
          ]
        }
      ]
    },
    {
      "cell_type": "code",
      "source": [
        "plt.figure(figsize=(12,8))\n",
        "sns.barplot(names,accuracies)"
      ],
      "metadata": {
        "colab": {
          "base_uri": "https://localhost:8080/",
          "height": 555
        },
        "id": "3WTXdesa7NR0",
        "outputId": "c46b6e61-fa68-4b85-9028-462b325e7486"
      },
      "execution_count": null,
      "outputs": [
        {
          "output_type": "stream",
          "name": "stderr",
          "text": [
            "/usr/local/lib/python3.7/dist-packages/seaborn/_decorators.py:43: FutureWarning: Pass the following variables as keyword args: x, y. From version 0.12, the only valid positional argument will be `data`, and passing other arguments without an explicit keyword will result in an error or misinterpretation.\n",
            "  FutureWarning\n"
          ]
        },
        {
          "output_type": "execute_result",
          "data": {
            "text/plain": [
              "<matplotlib.axes._subplots.AxesSubplot at 0x7f994aad5050>"
            ]
          },
          "metadata": {},
          "execution_count": 129
        },
        {
          "output_type": "display_data",
          "data": {
            "image/png": "[encoded data removed]",
            "text/plain": [
              "<Figure size 864x576 with 1 Axes>"
            ]
          },
          "metadata": {
            "needs_background": "light"
          }
        }
      ]
    },
    {
      "cell_type": "markdown",
      "metadata": {
        "id": "Gh25K7X6F6-n"
      },
      "source": [
        "# Classification using raw text"
      ]
    },
    {
      "cell_type": "markdown",
      "source": [
        "**Preparing the data for training**"
      ],
      "metadata": {
        "id": "_h5hANXw3m-T"
      }
    },
    {
      "cell_type": "code",
      "source": [
        "\"\"\"\n",
        "Training was taking quite some time, and data available was pretty well represented, so I decided to limit training set to 4000 instances\n",
        "\"\"\"\n",
        "df_train = df_train[:4000]\n",
        "df_test = df_test[:1000]\n",
        "\n",
        "df['humor'] = df['humor'].astype(int)\n",
        "df_train['humor'] = df_train['humor'].astype(int)\n",
        "df_test['humor'] = df_test['humor'].astype(int)"
      ],
      "metadata": {
        "colab": {
          "base_uri": "https://localhost:8080/"
        },
        "id": "AjhM1gsPFnn_",
        "outputId": "ed5a25b7-bd07-42dd-c048-12a763b69032"
      },
      "execution_count": null,
      "outputs": [
        {
          "output_type": "stream",
          "name": "stderr",
          "text": [
            "/usr/local/lib/python3.7/dist-packages/ipykernel_launcher.py:5: SettingWithCopyWarning: \n",
            "A value is trying to be set on a copy of a slice from a DataFrame.\n",
            "Try using .loc[row_indexer,col_indexer] = value instead\n",
            "\n",
            "See the caveats in the documentation: https://pandas.pydata.org/pandas-docs/stable/user_guide/indexing.html#returning-a-view-versus-a-copy\n",
            "  \"\"\"\n"
          ]
        }
      ]
    },
    {
      "cell_type": "code",
      "source": [
        "train_x = df_train['text'].to_numpy()\n",
        "train_y = df_train['humor'].to_numpy()\n",
        "test_x = df_test['text'].to_numpy()\n",
        "test_y = df_test['humor'].to_numpy()\n",
        "train_x"
      ],
      "metadata": {
        "colab": {
          "base_uri": "https://localhost:8080/"
        },
        "id": "NFNPlxW3UtSv",
        "outputId": "cf8489fc-8ec2-4935-8a41-a4d34035fc71"
      },
      "execution_count": null,
      "outputs": [
        {
          "output_type": "execute_result",
          "data": {
            "text/plain": [
              "array([\"Joe biden rules out 2020 bid: 'guys, i'm not running'\",\n",
              "       'Watch: darvish gave hitter whiplash with slow pitch',\n",
              "       'What do you call a turtle without its shell? dead.', ...,\n",
              "       \"Malala has powerful message for myanmar leader: condemn 'tragic' rohingya violence\",\n",
              "       \"What was snoop dogg's ghost arrested for? possesion.\",\n",
              "       \"Woman hit in face with slug reacts just as you'd expect\"],\n",
              "      dtype=object)"
            ]
          },
          "metadata": {},
          "execution_count": 98
        }
      ]
    },
    {
      "cell_type": "code",
      "source": [
        "# constants\n",
        "AUTOTUNE = tf.data.AUTOTUNE\n",
        "batch_size = 32\n",
        "seed = 42\n",
        "\n",
        "training_sample_count = 1000 # 4000\n",
        "test_count = 1000"
      ],
      "metadata": {
        "id": "Q9yW9K9XFbK6"
      },
      "execution_count": null,
      "outputs": []
    },
    {
      "cell_type": "markdown",
      "source": [
        "**Choosing BERT encoder and preprocessor**"
      ],
      "metadata": {
        "id": "DrpMb38k4Fed"
      }
    },
    {
      "cell_type": "code",
      "source": [
        "# choosing a BERT model to use\n",
        "bert_model_name = 'small_bert/bert_en_uncased_L-4_H-512_A-8'\n",
        "preprocess_handler = 'https://tfhub.dev/tensorflow/bert_en_uncased_preprocess/3'\n",
        "encode_handler = 'https://tfhub.dev/tensorflow/small_bert/bert_en_uncased_L-4_H-512_A-8/1'\n",
        "print(f'BERT model selected           : {encode_handler}')\n",
        "print(f'Preprocess model auto-selected: {preprocess_handler}')"
      ],
      "metadata": {
        "colab": {
          "base_uri": "https://localhost:8080/"
        },
        "id": "dr7tm9L-IHqB",
        "outputId": "e9264ff5-3641-4e81-9e9c-ec5b2faef276"
      },
      "execution_count": null,
      "outputs": [
        {
          "output_type": "stream",
          "name": "stdout",
          "text": [
            "BERT model selected           : https://tfhub.dev/tensorflow/small_bert/bert_en_uncased_L-4_H-512_A-8/1\n",
            "Preprocess model auto-selected: https://tfhub.dev/tensorflow/bert_en_uncased_preprocess/3\n"
          ]
        }
      ]
    },
    {
      "cell_type": "code",
      "source": [
        "bert_preprocess_model = hub.KerasLayer(preprocess_handler)\n",
        "bert_model = hub.KerasLayer(encode_handler)"
      ],
      "metadata": {
        "colab": {
          "base_uri": "https://localhost:8080/"
        },
        "id": "8rT3oBxwJAJQ",
        "outputId": "e073bb39-0a3a-4e9d-bb5e-5a702bbd9c9e"
      },
      "execution_count": null,
      "outputs": [
        {
          "output_type": "stream",
          "name": "stderr",
          "text": [
            "INFO:absl:Downloading TF-Hub Module 'https://tfhub.dev/tensorflow/small_bert/bert_en_uncased_L-4_H-512_A-8/1'.\n",
            "INFO:absl:Downloaded https://tfhub.dev/tensorflow/small_bert/bert_en_uncased_L-4_H-512_A-8/1, Total size: 115.55MB\n",
            "INFO:absl:Downloaded TF-Hub Module 'https://tfhub.dev/tensorflow/small_bert/bert_en_uncased_L-4_H-512_A-8/1'.\n"
          ]
        }
      ]
    },
    {
      "cell_type": "code",
      "source": [
        "text_test = ['this is such an amazing movie, I almost vomited watching it!']\n",
        "text_preprocessed = bert_preprocess_model(text_test)\n",
        "\n",
        "print(f'Keys       : {list(text_preprocessed.keys())}')\n",
        "print(f'Shape      : {text_preprocessed[\"input_word_ids\"].shape}')\n",
        "print(f'Word Ids   : {text_preprocessed[\"input_word_ids\"][0, :12]}')\n",
        "print(f'Input Mask : {text_preprocessed[\"input_mask\"][0, :12]}')\n",
        "print(f'Type Ids   : {text_preprocessed[\"input_type_ids\"][0, :12]}')\n",
        "\n",
        "bert_results = bert_model(text_preprocessed)\n",
        "\n",
        "print(f'Loaded BERT: {encode_handler}')\n",
        "print(f'Pooled Outputs Shape:{bert_results[\"pooled_output\"].shape}')\n",
        "print(f'Pooled Outputs Values:{bert_results[\"pooled_output\"][0, :12]}')\n",
        "print(f'Sequence Outputs Shape:{bert_results[\"sequence_output\"].shape}')\n",
        "print(f'Sequence Outputs Values:{bert_results[\"sequence_output\"][0, :12]}')"
      ],
      "metadata": {
        "colab": {
          "base_uri": "https://localhost:8080/"
        },
        "id": "jCuTMSszJzQ3",
        "outputId": "41d8027b-acb1-417b-ba8c-b64a0bdd4bb1"
      },
      "execution_count": null,
      "outputs": [
        {
          "output_type": "stream",
          "name": "stdout",
          "text": [
            "Keys       : ['input_type_ids', 'input_word_ids', 'input_mask']\n",
            "Shape      : (1, 128)\n",
            "Word Ids   : [  101  2023  2003  2107  2019  6429  3185  1010  1045  2471 23251  2098]\n",
            "Input Mask : [1 1 1 1 1 1 1 1 1 1 1 1]\n",
            "Type Ids   : [0 0 0 0 0 0 0 0 0 0 0 0]\n",
            "Loaded BERT: https://tfhub.dev/tensorflow/small_bert/bert_en_uncased_L-4_H-512_A-8/1\n",
            "Pooled Outputs Shape:(1, 512)\n",
            "Pooled Outputs Values:[-0.3512694   0.99770105 -0.11790491  0.34936583  0.47399294 -0.31028688\n",
            "  0.9483486  -0.98057073  0.05748087 -0.9804539  -0.18297625 -0.9927674 ]\n",
            "Sequence Outputs Shape:(1, 128, 512)\n",
            "Sequence Outputs Values:[[-0.5247066   0.3570487   1.0009433  ... -0.29903772  0.9202562\n",
            "   0.07984955]\n",
            " [-0.39674878  0.00676402  0.22293815 ... -0.09672141 -0.41591924\n",
            "   0.8126063 ]\n",
            " [-0.616035    0.7071389  -0.9986656  ... -0.42964813 -0.3215326\n",
            "   0.7344817 ]\n",
            " ...\n",
            " [-0.54472363  0.11413148 -0.80951375 ...  0.16795418  0.2316516\n",
            "   0.54115397]\n",
            " [-0.8701445   0.05084617 -0.17168377 ... -0.67975754  1.2771124\n",
            "  -0.65050364]\n",
            " [-0.24336284  0.20358351 -1.0137224  ... -0.79781294 -0.28699645\n",
            "  -0.81956714]]\n"
          ]
        }
      ]
    },
    {
      "cell_type": "markdown",
      "source": [
        "**Building and compiling BERT-based model**"
      ],
      "metadata": {
        "id": "mr5-_AKX3czh"
      }
    },
    {
      "cell_type": "code",
      "source": [
        "def build_classifier_model():\n",
        "    text_input = tf.keras.layers.Input(shape=(), dtype=tf.string, name='text')\n",
        "    preprocessing_layer = hub.KerasLayer(preprocess_handler, name='preprocessing')\n",
        "    encoder_inputs = preprocessing_layer(text_input)\n",
        "    encoder = hub.KerasLayer(encode_handler, trainable=True, name='BERT_encoder')\n",
        "    outputs = encoder(encoder_inputs)\n",
        "    net = outputs['pooled_output']\n",
        "    net = tf.keras.layers.Dropout(0.1)(net)\n",
        "    net = tf.keras.layers.Dense(1, activation=None, name='classifier')(net)\n",
        "    return tf.keras.Model(text_input, net)"
      ],
      "metadata": {
        "id": "P_F2EGLgKA-V"
      },
      "execution_count": null,
      "outputs": []
    },
    {
      "cell_type": "code",
      "source": [
        "classifier_model = build_classifier_model()\n",
        "tf.keras.utils.plot_model(classifier_model)"
      ],
      "metadata": {
        "colab": {
          "base_uri": "https://localhost:8080/",
          "height": 466
        },
        "id": "zRl3L2bzK5TQ",
        "outputId": "be0abb1a-fd80-421b-deb0-9b28311b1b73"
      },
      "execution_count": null,
      "outputs": [
        {
          "output_type": "execute_result",
          "data": {
            "image/png": "[encoded data removed]",
            "text/plain": [
              "<IPython.core.display.Image object>"
            ]
          },
          "metadata": {},
          "execution_count": 61
        }
      ]
    },
    {
      "cell_type": "code",
      "source": [
        "classifier_model.summary()"
      ],
      "metadata": {
        "colab": {
          "base_uri": "https://localhost:8080/"
        },
        "id": "LlXBE5P7MvZr",
        "outputId": "cf70f077-80d8-4f00-b2ae-b9db634353ff"
      },
      "execution_count": null,
      "outputs": [
        {
          "output_type": "stream",
          "name": "stdout",
          "text": [
            "Model: \"model_1\"\n",
            "__________________________________________________________________________________________________\n",
            " Layer (type)                   Output Shape         Param #     Connected to                     \n",
            "==================================================================================================\n",
            " text (InputLayer)              [(None,)]            0           []                               \n",
            "                                                                                                  \n",
            " preprocessing (KerasLayer)     {'input_type_ids':   0           ['text[0][0]']                   \n",
            "                                (None, 128),                                                      \n",
            "                                 'input_word_ids':                                                \n",
            "                                (None, 128),                                                      \n",
            "                                 'input_mask': (Non                                               \n",
            "                                e, 128)}                                                          \n",
            "                                                                                                  \n",
            " BERT_encoder (KerasLayer)      {'default': (None,   28763649    ['preprocessing[0][0]',          \n",
            "                                512),                             'preprocessing[0][1]',          \n",
            "                                 'encoder_outputs':               'preprocessing[0][2]']          \n",
            "                                 [(None, 128, 512),                                               \n",
            "                                 (None, 128, 512),                                                \n",
            "                                 (None, 128, 512),                                                \n",
            "                                 (None, 128, 512)],                                               \n",
            "                                 'pooled_output': (                                               \n",
            "                                None, 512),                                                       \n",
            "                                 'sequence_output':                                               \n",
            "                                 (None, 128, 512)}                                                \n",
            "                                                                                                  \n",
            " dropout_1 (Dropout)            (None, 512)          0           ['BERT_encoder[0][5]']           \n",
            "                                                                                                  \n",
            " classifier (Dense)             (None, 1)            513         ['dropout_1[0][0]']              \n",
            "                                                                                                  \n",
            "==================================================================================================\n",
            "Total params: 28,764,162\n",
            "Trainable params: 28,764,161\n",
            "Non-trainable params: 1\n",
            "__________________________________________________________________________________________________\n"
          ]
        }
      ]
    },
    {
      "cell_type": "code",
      "source": [
        "loss = tf.keras.losses.BinaryCrossentropy(from_logits=True)\n",
        "metrics = tf.metrics.BinaryAccuracy()\n",
        "\n",
        "epochs = 5\n",
        "steps_per_epoch = training_sample_count\n",
        "num_train_steps = steps_per_epoch * epochs\n",
        "num_warmup_steps = int(0.1*num_train_steps)\n",
        "\n",
        "optimizer = optimization.create_optimizer(init_lr=3e-5,\n",
        "                                          num_train_steps=num_train_steps,\n",
        "                                          num_warmup_steps=num_warmup_steps,\n",
        "                                          optimizer_type='adamw')\n",
        "\n",
        "classifier_model.compile(optimizer=optimizer,\n",
        "                         loss=loss,\n",
        "                         metrics=metrics)"
      ],
      "metadata": {
        "colab": {
          "base_uri": "https://localhost:8080/"
        },
        "id": "X_39AOboLfgT",
        "outputId": "ad124ade-48ac-41f2-b3c1-dedffd1c138c"
      },
      "execution_count": null,
      "outputs": [
        {
          "output_type": "stream",
          "name": "stderr",
          "text": [
            "INFO:absl:using Adamw optimizer\n",
            "INFO:absl:gradient_clip_norm=1.000000\n"
          ]
        }
      ]
    },
    {
      "cell_type": "markdown",
      "source": [
        "**Training**"
      ],
      "metadata": {
        "id": "6XRWoB3a3PqM"
      }
    },
    {
      "cell_type": "code",
      "source": [
        "history = classifier_model.fit(x=train_x,\n",
        "                               y=train_y,\n",
        "                               batch_size=batch_size,\n",
        "                               epochs=epochs)"
      ],
      "metadata": {
        "colab": {
          "base_uri": "https://localhost:8080/"
        },
        "id": "f5cYDanVTpbP",
        "outputId": "4d8c757f-af5c-4816-8b37-b03ee449782a"
      },
      "execution_count": null,
      "outputs": [
        {
          "output_type": "stream",
          "name": "stdout",
          "text": [
            "Epoch 1/5\n",
            "125/125 [==============================] - 869s 7s/step - loss: 0.5257 - binary_accuracy: 0.7045\n",
            "Epoch 2/5\n",
            "125/125 [==============================] - 950s 8s/step - loss: 0.1671 - binary_accuracy: 0.9435\n",
            "Epoch 3/5\n",
            "125/125 [==============================] - 969s 8s/step - loss: 0.1101 - binary_accuracy: 0.9620\n",
            "Epoch 4/5\n",
            "125/125 [==============================] - 945s 8s/step - loss: 0.0778 - binary_accuracy: 0.9732\n",
            "Epoch 5/5\n",
            "125/125 [==============================] - 894s 7s/step - loss: 0.0408 - binary_accuracy: 0.9862\n"
          ]
        }
      ]
    },
    {
      "cell_type": "markdown",
      "source": [
        "**Testing the model**"
      ],
      "metadata": {
        "id": "ghUaHbUe27es"
      }
    },
    {
      "cell_type": "code",
      "source": [
        "classifier_model.evaluate(test_x,test_y)"
      ],
      "metadata": {
        "colab": {
          "base_uri": "https://localhost:8080/"
        },
        "id": "iqUCTFNypB00",
        "outputId": "fceb7fcc-ca7e-4fab-d6a2-da5c11c26a99"
      },
      "execution_count": null,
      "outputs": [
        {
          "output_type": "stream",
          "name": "stdout",
          "text": [
            "32/32 [==============================] - 69s 2s/step - loss: 0.1631 - binary_accuracy: 0.9600\n"
          ]
        },
        {
          "output_type": "execute_result",
          "data": {
            "text/plain": [
              "[0.1631077080965042, 0.9599999785423279]"
            ]
          },
          "metadata": {},
          "execution_count": 100
        }
      ]
    },
    {
      "cell_type": "code",
      "source": [
        "# some further testing\n",
        "further_test_x = df.loc[100000:101000,'text'].to_numpy()\n",
        "further_test_y = df.loc[100000:101000,'humor'].to_numpy()\n",
        "classifier_model.evaluate(further_test_x,further_test_y)"
      ],
      "metadata": {
        "colab": {
          "base_uri": "https://localhost:8080/"
        },
        "id": "2-peEYQjrV5P",
        "outputId": "244df45f-236f-4376-823c-82eeb85816ff"
      },
      "execution_count": null,
      "outputs": [
        {
          "output_type": "stream",
          "name": "stdout",
          "text": [
            "32/32 [==============================] - 65s 2s/step - loss: 0.1992 - binary_accuracy: 0.9580\n"
          ]
        },
        {
          "output_type": "execute_result",
          "data": {
            "text/plain": [
              "[0.1991594433784485, 0.9580419659614563]"
            ]
          },
          "metadata": {},
          "execution_count": 125
        }
      ]
    },
    {
      "cell_type": "markdown",
      "source": [
        "# Saving the model"
      ],
      "metadata": {
        "id": "de2Mw8j120NB"
      }
    },
    {
      "cell_type": "code",
      "source": [
        "# saving the model\n",
        "!mkdir -p saved_models\n",
        "classifier_model.save('saved_models/classifier_model1')"
      ],
      "metadata": {
        "colab": {
          "base_uri": "https://localhost:8080/"
        },
        "id": "Webps3-ape2o",
        "outputId": "48d88d0e-c400-4998-92c2-465fbcf496a1"
      },
      "execution_count": null,
      "outputs": [
        {
          "output_type": "stream",
          "name": "stderr",
          "text": [
            "WARNING:absl:Found untraced functions such as restored_function_body, restored_function_body, restored_function_body, restored_function_body, restored_function_body while saving (showing 5 of 310). These functions will not be directly callable after loading.\n",
            "INFO:tensorflow:Assets written to: saved_models/classifier_model1/assets\n"
          ]
        }
      ]
    },
    {
      "cell_type": "code",
      "source": [
        "# downloading the model\n",
        "!zip -r /content/classifier_model1.zip /content/saved_models/classifier_model1\n",
        "from google.colab import files\n",
        "files.download(\"/content/classifier_model1.zip\")"
      ],
      "metadata": {
        "colab": {
          "base_uri": "https://localhost:8080/",
          "height": 156
        },
        "id": "ETxLkuYpqdqu",
        "outputId": "0561a3e4-5c87-4d35-81af-4caf6628cab4"
      },
      "execution_count": null,
      "outputs": [
        {
          "output_type": "stream",
          "name": "stdout",
          "text": [
            "  adding: content/saved_models/classifier_model1/ (stored 0%)\n",
            "  adding: content/saved_models/classifier_model1/variables/ (stored 0%)\n",
            "  adding: content/saved_models/classifier_model1/variables/variables.data-00000-of-00001 (deflated 31%)\n",
            "  adding: content/saved_models/classifier_model1/variables/variables.index (deflated 79%)\n",
            "  adding: content/saved_models/classifier_model1/assets/ (stored 0%)\n",
            "  adding: content/saved_models/classifier_model1/assets/vocab.txt (deflated 53%)\n",
            "  adding: content/saved_models/classifier_model1/keras_metadata.pb (deflated 83%)\n",
            "  adding: content/saved_models/classifier_model1/saved_model.pb (deflated 92%)\n"
          ]
        },
        {
          "output_type": "display_data",
          "data": {
            "application/javascript": [
              "\n",
              "    async function download(id, filename, size) {\n",
              "      if (!google.colab.kernel.accessAllowed) {\n",
              "        return;\n",
              "      }\n",
              "      const div = document.createElement('div');\n",
              "      const label = document.createElement('label');\n",
              "      label.textContent = `Downloading \"${filename}\": `;\n",
              "      div.appendChild(label);\n",
              "      const progress = document.createElement('progress');\n",
              "      progress.max = size;\n",
              "      div.appendChild(progress);\n",
              "      document.body.appendChild(div);\n",
              "\n",
              "      const buffers = [];\n",
              "      let downloaded = 0;\n",
              "\n",
              "      const channel = await google.colab.kernel.comms.open(id);\n",
              "      // Send a message to notify the kernel that we're ready.\n",
              "      channel.send({})\n",
              "\n",
              "      for await (const message of channel.messages) {\n",
              "        // Send a message to notify the kernel that we're ready.\n",
              "        channel.send({})\n",
              "        if (message.buffers) {\n",
              "          for (const buffer of message.buffers) {\n",
              "            buffers.push(buffer);\n",
              "            downloaded += buffer.byteLength;\n",
              "            progress.value = downloaded;\n",
              "          }\n",
              "        }\n",
              "      }\n",
              "      const blob = new Blob(buffers, {type: 'application/binary'});\n",
              "      const a = document.createElement('a');\n",
              "      a.href = window.URL.createObjectURL(blob);\n",
              "      a.download = filename;\n",
              "      div.appendChild(a);\n",
              "      a.click();\n",
              "      div.remove();\n",
              "    }\n",
              "  "
            ],
            "text/plain": [
              "<IPython.core.display.Javascript object>"
            ]
          },
          "metadata": {}
        },
        {
          "output_type": "display_data",
          "data": {
            "application/javascript": [
              "download(\"download_00708af8-884e-465d-87dc-d12e1c0bcba2\", \"classifier_model1.zip\", 238924849)"
            ],
            "text/plain": [
              "<IPython.core.display.Javascript object>"
            ]
          },
          "metadata": {}
        }
      ]
    }
  ]
}